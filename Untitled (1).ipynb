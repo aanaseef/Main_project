{
 "cells": [
  {
   "cell_type": "code",
   "execution_count": 1,
   "id": "138329bb",
   "metadata": {},
   "outputs": [],
   "source": [
    "#importing basics libraries\n",
    "import pandas as pd\n",
    "import numpy as np\n",
    "import matplotlib.pyplot as plt\n",
    "import seaborn as sns\n",
    "%matplotlib inline"
   ]
  },
  {
   "cell_type": "code",
   "execution_count": 2,
   "id": "d271b539",
   "metadata": {},
   "outputs": [
    {
     "data": {
      "text/html": [
       "<div>\n",
       "<style scoped>\n",
       "    .dataframe tbody tr th:only-of-type {\n",
       "        vertical-align: middle;\n",
       "    }\n",
       "\n",
       "    .dataframe tbody tr th {\n",
       "        vertical-align: top;\n",
       "    }\n",
       "\n",
       "    .dataframe thead th {\n",
       "        text-align: right;\n",
       "    }\n",
       "</style>\n",
       "<table border=\"1\" class=\"dataframe\">\n",
       "  <thead>\n",
       "    <tr style=\"text-align: right;\">\n",
       "      <th></th>\n",
       "      <th>ID</th>\n",
       "      <th>UsageClass</th>\n",
       "      <th>CheckoutType</th>\n",
       "      <th>CheckoutYear</th>\n",
       "      <th>CheckoutMonth</th>\n",
       "      <th>Checkouts</th>\n",
       "      <th>Title</th>\n",
       "      <th>Creator</th>\n",
       "      <th>Subjects</th>\n",
       "      <th>Publisher</th>\n",
       "      <th>PublicationYear</th>\n",
       "      <th>MaterialType</th>\n",
       "    </tr>\n",
       "  </thead>\n",
       "  <tbody>\n",
       "    <tr>\n",
       "      <th>0</th>\n",
       "      <td>1</td>\n",
       "      <td>Physical</td>\n",
       "      <td>Horizon</td>\n",
       "      <td>2005</td>\n",
       "      <td>4</td>\n",
       "      <td>1</td>\n",
       "      <td>Tidal wave</td>\n",
       "      <td>NaN</td>\n",
       "      <td>Tsunamis, Tsunamis Juvenile literature</td>\n",
       "      <td>NaN</td>\n",
       "      <td>NaN</td>\n",
       "      <td>BOOK</td>\n",
       "    </tr>\n",
       "    <tr>\n",
       "      <th>1</th>\n",
       "      <td>2</td>\n",
       "      <td>Physical</td>\n",
       "      <td>Horizon</td>\n",
       "      <td>2005</td>\n",
       "      <td>4</td>\n",
       "      <td>1</td>\n",
       "      <td>London holiday / Richard Peck.</td>\n",
       "      <td>Peck, Richard, 1934-</td>\n",
       "      <td>NaN</td>\n",
       "      <td>Viking,</td>\n",
       "      <td>1998.</td>\n",
       "      <td>BOOK</td>\n",
       "    </tr>\n",
       "    <tr>\n",
       "      <th>2</th>\n",
       "      <td>3</td>\n",
       "      <td>Physical</td>\n",
       "      <td>Horizon</td>\n",
       "      <td>2005</td>\n",
       "      <td>4</td>\n",
       "      <td>3</td>\n",
       "      <td>Cinco de Mayo : celebrating Hispanic pride / C...</td>\n",
       "      <td>Gnojewski, Carol</td>\n",
       "      <td>Cinco de Mayo Mexican holiday History Juvenile...</td>\n",
       "      <td>Enslow Publishers,</td>\n",
       "      <td>c2002.</td>\n",
       "      <td>BOOK</td>\n",
       "    </tr>\n",
       "    <tr>\n",
       "      <th>3</th>\n",
       "      <td>4</td>\n",
       "      <td>Physical</td>\n",
       "      <td>Horizon</td>\n",
       "      <td>2005</td>\n",
       "      <td>4</td>\n",
       "      <td>1</td>\n",
       "      <td>Annapolis</td>\n",
       "      <td>NaN</td>\n",
       "      <td>War stories, Historical fiction, Domestic fict...</td>\n",
       "      <td>NaN</td>\n",
       "      <td>NaN</td>\n",
       "      <td>BOOK</td>\n",
       "    </tr>\n",
       "    <tr>\n",
       "      <th>4</th>\n",
       "      <td>5</td>\n",
       "      <td>Physical</td>\n",
       "      <td>Horizon</td>\n",
       "      <td>2005</td>\n",
       "      <td>4</td>\n",
       "      <td>1</td>\n",
       "      <td>As a man thinketh</td>\n",
       "      <td>NaN</td>\n",
       "      <td>Thought and thinking</td>\n",
       "      <td>NaN</td>\n",
       "      <td>NaN</td>\n",
       "      <td>BOOK</td>\n",
       "    </tr>\n",
       "  </tbody>\n",
       "</table>\n",
       "</div>"
      ],
      "text/plain": [
       "   ID UsageClass CheckoutType  CheckoutYear  CheckoutMonth  Checkouts  \\\n",
       "0   1   Physical      Horizon          2005              4          1   \n",
       "1   2   Physical      Horizon          2005              4          1   \n",
       "2   3   Physical      Horizon          2005              4          3   \n",
       "3   4   Physical      Horizon          2005              4          1   \n",
       "4   5   Physical      Horizon          2005              4          1   \n",
       "\n",
       "                                               Title               Creator  \\\n",
       "0                                         Tidal wave                   NaN   \n",
       "1                     London holiday / Richard Peck.  Peck, Richard, 1934-   \n",
       "2  Cinco de Mayo : celebrating Hispanic pride / C...      Gnojewski, Carol   \n",
       "3                                          Annapolis                   NaN   \n",
       "4                                  As a man thinketh                   NaN   \n",
       "\n",
       "                                            Subjects           Publisher  \\\n",
       "0             Tsunamis, Tsunamis Juvenile literature                 NaN   \n",
       "1                                                NaN             Viking,   \n",
       "2  Cinco de Mayo Mexican holiday History Juvenile...  Enslow Publishers,   \n",
       "3  War stories, Historical fiction, Domestic fict...                 NaN   \n",
       "4                               Thought and thinking                 NaN   \n",
       "\n",
       "  PublicationYear MaterialType  \n",
       "0             NaN         BOOK  \n",
       "1           1998.         BOOK  \n",
       "2          c2002.         BOOK  \n",
       "3             NaN         BOOK  \n",
       "4             NaN         BOOK  "
      ]
     },
     "execution_count": 2,
     "metadata": {},
     "output_type": "execute_result"
    }
   ],
   "source": [
    "train_df=pd.read_csv('train_file.csv')\n",
    "train_df.head()"
   ]
  },
  {
   "cell_type": "code",
   "execution_count": 3,
   "id": "012752f1",
   "metadata": {},
   "outputs": [
    {
     "data": {
      "text/html": [
       "<div>\n",
       "<style scoped>\n",
       "    .dataframe tbody tr th:only-of-type {\n",
       "        vertical-align: middle;\n",
       "    }\n",
       "\n",
       "    .dataframe tbody tr th {\n",
       "        vertical-align: top;\n",
       "    }\n",
       "\n",
       "    .dataframe thead th {\n",
       "        text-align: right;\n",
       "    }\n",
       "</style>\n",
       "<table border=\"1\" class=\"dataframe\">\n",
       "  <thead>\n",
       "    <tr style=\"text-align: right;\">\n",
       "      <th></th>\n",
       "      <th>ID</th>\n",
       "      <th>UsageClass</th>\n",
       "      <th>CheckoutType</th>\n",
       "      <th>CheckoutYear</th>\n",
       "      <th>CheckoutMonth</th>\n",
       "      <th>Checkouts</th>\n",
       "      <th>Title</th>\n",
       "      <th>Creator</th>\n",
       "      <th>Subjects</th>\n",
       "      <th>Publisher</th>\n",
       "      <th>PublicationYear</th>\n",
       "    </tr>\n",
       "  </thead>\n",
       "  <tbody>\n",
       "    <tr>\n",
       "      <th>0</th>\n",
       "      <td>31654</td>\n",
       "      <td>Physical</td>\n",
       "      <td>Horizon</td>\n",
       "      <td>2005</td>\n",
       "      <td>4</td>\n",
       "      <td>1</td>\n",
       "      <td>Footprints at the window</td>\n",
       "      <td>NaN</td>\n",
       "      <td>England Fiction, Space and time Fiction</td>\n",
       "      <td>NaN</td>\n",
       "      <td>NaN</td>\n",
       "    </tr>\n",
       "    <tr>\n",
       "      <th>1</th>\n",
       "      <td>31655</td>\n",
       "      <td>Physical</td>\n",
       "      <td>Horizon</td>\n",
       "      <td>2005</td>\n",
       "      <td>4</td>\n",
       "      <td>2</td>\n",
       "      <td>Seven brides for seven brothers</td>\n",
       "      <td>NaN</td>\n",
       "      <td>Video recordings for the hearing impaired, Mus...</td>\n",
       "      <td>NaN</td>\n",
       "      <td>NaN</td>\n",
       "    </tr>\n",
       "    <tr>\n",
       "      <th>2</th>\n",
       "      <td>31656</td>\n",
       "      <td>Physical</td>\n",
       "      <td>Horizon</td>\n",
       "      <td>2005</td>\n",
       "      <td>4</td>\n",
       "      <td>2</td>\n",
       "      <td>History [sound recording] / Loudon Wainwright ...</td>\n",
       "      <td>Wainwright, Loudon, III, 1946-</td>\n",
       "      <td>Popular music 1991 2000</td>\n",
       "      <td>Charisma,</td>\n",
       "      <td>p1992.</td>\n",
       "    </tr>\n",
       "    <tr>\n",
       "      <th>3</th>\n",
       "      <td>31657</td>\n",
       "      <td>Physical</td>\n",
       "      <td>Horizon</td>\n",
       "      <td>2005</td>\n",
       "      <td>4</td>\n",
       "      <td>2</td>\n",
       "      <td>Doing big business on the internet</td>\n",
       "      <td>NaN</td>\n",
       "      <td>Internet, Internet advertising, Information ne...</td>\n",
       "      <td>NaN</td>\n",
       "      <td>NaN</td>\n",
       "    </tr>\n",
       "    <tr>\n",
       "      <th>4</th>\n",
       "      <td>31658</td>\n",
       "      <td>Physical</td>\n",
       "      <td>Horizon</td>\n",
       "      <td>2005</td>\n",
       "      <td>4</td>\n",
       "      <td>2</td>\n",
       "      <td>Lets learn how to dance shag</td>\n",
       "      <td>NaN</td>\n",
       "      <td>Shag Dance, Ballroom dancing</td>\n",
       "      <td>NaN</td>\n",
       "      <td>NaN</td>\n",
       "    </tr>\n",
       "  </tbody>\n",
       "</table>\n",
       "</div>"
      ],
      "text/plain": [
       "      ID UsageClass CheckoutType  CheckoutYear  CheckoutMonth  Checkouts  \\\n",
       "0  31654   Physical      Horizon          2005              4          1   \n",
       "1  31655   Physical      Horizon          2005              4          2   \n",
       "2  31656   Physical      Horizon          2005              4          2   \n",
       "3  31657   Physical      Horizon          2005              4          2   \n",
       "4  31658   Physical      Horizon          2005              4          2   \n",
       "\n",
       "                                               Title  \\\n",
       "0                           Footprints at the window   \n",
       "1                    Seven brides for seven brothers   \n",
       "2  History [sound recording] / Loudon Wainwright ...   \n",
       "3                 Doing big business on the internet   \n",
       "4                       Lets learn how to dance shag   \n",
       "\n",
       "                          Creator  \\\n",
       "0                             NaN   \n",
       "1                             NaN   \n",
       "2  Wainwright, Loudon, III, 1946-   \n",
       "3                             NaN   \n",
       "4                             NaN   \n",
       "\n",
       "                                            Subjects  Publisher  \\\n",
       "0            England Fiction, Space and time Fiction        NaN   \n",
       "1  Video recordings for the hearing impaired, Mus...        NaN   \n",
       "2                            Popular music 1991 2000  Charisma,   \n",
       "3  Internet, Internet advertising, Information ne...        NaN   \n",
       "4                       Shag Dance, Ballroom dancing        NaN   \n",
       "\n",
       "  PublicationYear  \n",
       "0             NaN  \n",
       "1             NaN  \n",
       "2          p1992.  \n",
       "3             NaN  \n",
       "4             NaN  "
      ]
     },
     "execution_count": 3,
     "metadata": {},
     "output_type": "execute_result"
    }
   ],
   "source": [
    "test_df=pd.read_csv('test_file.csv')\n",
    "test_df.head()"
   ]
  },
  {
   "cell_type": "code",
   "execution_count": 4,
   "id": "ce4efb7f",
   "metadata": {},
   "outputs": [
    {
     "data": {
      "text/html": [
       "<div>\n",
       "<style scoped>\n",
       "    .dataframe tbody tr th:only-of-type {\n",
       "        vertical-align: middle;\n",
       "    }\n",
       "\n",
       "    .dataframe tbody tr th {\n",
       "        vertical-align: top;\n",
       "    }\n",
       "\n",
       "    .dataframe thead th {\n",
       "        text-align: right;\n",
       "    }\n",
       "</style>\n",
       "<table border=\"1\" class=\"dataframe\">\n",
       "  <thead>\n",
       "    <tr style=\"text-align: right;\">\n",
       "      <th></th>\n",
       "      <th>ID</th>\n",
       "      <th>UsageClass</th>\n",
       "      <th>CheckoutType</th>\n",
       "      <th>CheckoutYear</th>\n",
       "      <th>CheckoutMonth</th>\n",
       "      <th>Checkouts</th>\n",
       "      <th>Title</th>\n",
       "      <th>Creator</th>\n",
       "      <th>Subjects</th>\n",
       "      <th>Publisher</th>\n",
       "      <th>PublicationYear</th>\n",
       "      <th>MaterialType</th>\n",
       "    </tr>\n",
       "  </thead>\n",
       "  <tbody>\n",
       "    <tr>\n",
       "      <th>0</th>\n",
       "      <td>1</td>\n",
       "      <td>Physical</td>\n",
       "      <td>Horizon</td>\n",
       "      <td>2005</td>\n",
       "      <td>4</td>\n",
       "      <td>1</td>\n",
       "      <td>Tidal wave</td>\n",
       "      <td>NaN</td>\n",
       "      <td>Tsunamis, Tsunamis Juvenile literature</td>\n",
       "      <td>NaN</td>\n",
       "      <td>NaN</td>\n",
       "      <td>BOOK</td>\n",
       "    </tr>\n",
       "    <tr>\n",
       "      <th>1</th>\n",
       "      <td>2</td>\n",
       "      <td>Physical</td>\n",
       "      <td>Horizon</td>\n",
       "      <td>2005</td>\n",
       "      <td>4</td>\n",
       "      <td>1</td>\n",
       "      <td>London holiday / Richard Peck.</td>\n",
       "      <td>Peck, Richard, 1934-</td>\n",
       "      <td>NaN</td>\n",
       "      <td>Viking,</td>\n",
       "      <td>1998.</td>\n",
       "      <td>BOOK</td>\n",
       "    </tr>\n",
       "    <tr>\n",
       "      <th>2</th>\n",
       "      <td>3</td>\n",
       "      <td>Physical</td>\n",
       "      <td>Horizon</td>\n",
       "      <td>2005</td>\n",
       "      <td>4</td>\n",
       "      <td>3</td>\n",
       "      <td>Cinco de Mayo : celebrating Hispanic pride / C...</td>\n",
       "      <td>Gnojewski, Carol</td>\n",
       "      <td>Cinco de Mayo Mexican holiday History Juvenile...</td>\n",
       "      <td>Enslow Publishers,</td>\n",
       "      <td>c2002.</td>\n",
       "      <td>BOOK</td>\n",
       "    </tr>\n",
       "    <tr>\n",
       "      <th>3</th>\n",
       "      <td>4</td>\n",
       "      <td>Physical</td>\n",
       "      <td>Horizon</td>\n",
       "      <td>2005</td>\n",
       "      <td>4</td>\n",
       "      <td>1</td>\n",
       "      <td>Annapolis</td>\n",
       "      <td>NaN</td>\n",
       "      <td>War stories, Historical fiction, Domestic fict...</td>\n",
       "      <td>NaN</td>\n",
       "      <td>NaN</td>\n",
       "      <td>BOOK</td>\n",
       "    </tr>\n",
       "    <tr>\n",
       "      <th>4</th>\n",
       "      <td>5</td>\n",
       "      <td>Physical</td>\n",
       "      <td>Horizon</td>\n",
       "      <td>2005</td>\n",
       "      <td>4</td>\n",
       "      <td>1</td>\n",
       "      <td>As a man thinketh</td>\n",
       "      <td>NaN</td>\n",
       "      <td>Thought and thinking</td>\n",
       "      <td>NaN</td>\n",
       "      <td>NaN</td>\n",
       "      <td>BOOK</td>\n",
       "    </tr>\n",
       "  </tbody>\n",
       "</table>\n",
       "</div>"
      ],
      "text/plain": [
       "   ID UsageClass CheckoutType  CheckoutYear  CheckoutMonth  Checkouts  \\\n",
       "0   1   Physical      Horizon          2005              4          1   \n",
       "1   2   Physical      Horizon          2005              4          1   \n",
       "2   3   Physical      Horizon          2005              4          3   \n",
       "3   4   Physical      Horizon          2005              4          1   \n",
       "4   5   Physical      Horizon          2005              4          1   \n",
       "\n",
       "                                               Title               Creator  \\\n",
       "0                                         Tidal wave                   NaN   \n",
       "1                     London holiday / Richard Peck.  Peck, Richard, 1934-   \n",
       "2  Cinco de Mayo : celebrating Hispanic pride / C...      Gnojewski, Carol   \n",
       "3                                          Annapolis                   NaN   \n",
       "4                                  As a man thinketh                   NaN   \n",
       "\n",
       "                                            Subjects           Publisher  \\\n",
       "0             Tsunamis, Tsunamis Juvenile literature                 NaN   \n",
       "1                                                NaN             Viking,   \n",
       "2  Cinco de Mayo Mexican holiday History Juvenile...  Enslow Publishers,   \n",
       "3  War stories, Historical fiction, Domestic fict...                 NaN   \n",
       "4                               Thought and thinking                 NaN   \n",
       "\n",
       "  PublicationYear MaterialType  \n",
       "0             NaN         BOOK  \n",
       "1           1998.         BOOK  \n",
       "2          c2002.         BOOK  \n",
       "3             NaN         BOOK  \n",
       "4             NaN         BOOK  "
      ]
     },
     "execution_count": 4,
     "metadata": {},
     "output_type": "execute_result"
    }
   ],
   "source": [
    "final_df=train_df.append(test_df)\n",
    "final_df.head()"
   ]
  },
  {
   "cell_type": "code",
   "execution_count": 5,
   "id": "c3e19d36",
   "metadata": {},
   "outputs": [
    {
     "data": {
      "text/html": [
       "<div>\n",
       "<style scoped>\n",
       "    .dataframe tbody tr th:only-of-type {\n",
       "        vertical-align: middle;\n",
       "    }\n",
       "\n",
       "    .dataframe tbody tr th {\n",
       "        vertical-align: top;\n",
       "    }\n",
       "\n",
       "    .dataframe thead th {\n",
       "        text-align: right;\n",
       "    }\n",
       "</style>\n",
       "<table border=\"1\" class=\"dataframe\">\n",
       "  <thead>\n",
       "    <tr style=\"text-align: right;\">\n",
       "      <th></th>\n",
       "      <th>ID</th>\n",
       "      <th>UsageClass</th>\n",
       "      <th>CheckoutType</th>\n",
       "      <th>CheckoutYear</th>\n",
       "      <th>CheckoutMonth</th>\n",
       "      <th>Checkouts</th>\n",
       "      <th>Title</th>\n",
       "      <th>Creator</th>\n",
       "      <th>Subjects</th>\n",
       "      <th>Publisher</th>\n",
       "      <th>PublicationYear</th>\n",
       "      <th>MaterialType</th>\n",
       "    </tr>\n",
       "  </thead>\n",
       "  <tbody>\n",
       "    <tr>\n",
       "      <th>21097</th>\n",
       "      <td>52751</td>\n",
       "      <td>Physical</td>\n",
       "      <td>Horizon</td>\n",
       "      <td>2005</td>\n",
       "      <td>4</td>\n",
       "      <td>1</td>\n",
       "      <td>History of womens costume</td>\n",
       "      <td>NaN</td>\n",
       "      <td>Costume History</td>\n",
       "      <td>NaN</td>\n",
       "      <td>NaN</td>\n",
       "      <td>NaN</td>\n",
       "    </tr>\n",
       "    <tr>\n",
       "      <th>21098</th>\n",
       "      <td>52752</td>\n",
       "      <td>Physical</td>\n",
       "      <td>Horizon</td>\n",
       "      <td>2005</td>\n",
       "      <td>4</td>\n",
       "      <td>10</td>\n",
       "      <td>Miss Smith's incredible storybook / Michael Ga...</td>\n",
       "      <td>Garland, Michael, 1952-</td>\n",
       "      <td>Books and reading Juvenile fiction, Teachers J...</td>\n",
       "      <td>Dutton Children's Books,</td>\n",
       "      <td>2003.</td>\n",
       "      <td>NaN</td>\n",
       "    </tr>\n",
       "    <tr>\n",
       "      <th>21099</th>\n",
       "      <td>52753</td>\n",
       "      <td>Physical</td>\n",
       "      <td>Horizon</td>\n",
       "      <td>2005</td>\n",
       "      <td>4</td>\n",
       "      <td>1</td>\n",
       "      <td>Sir Philip's folly / Marion Chesney.</td>\n",
       "      <td>Chesney, Marion</td>\n",
       "      <td>Man woman relationships England Fiction, Famil...</td>\n",
       "      <td>St. Martin's Press,</td>\n",
       "      <td>1993.</td>\n",
       "      <td>NaN</td>\n",
       "    </tr>\n",
       "    <tr>\n",
       "      <th>21100</th>\n",
       "      <td>52754</td>\n",
       "      <td>Physical</td>\n",
       "      <td>Horizon</td>\n",
       "      <td>2005</td>\n",
       "      <td>4</td>\n",
       "      <td>6</td>\n",
       "      <td>Miss congeniality</td>\n",
       "      <td>NaN</td>\n",
       "      <td>Video recordings for the hearing impaired, Fea...</td>\n",
       "      <td>NaN</td>\n",
       "      <td>NaN</td>\n",
       "      <td>NaN</td>\n",
       "    </tr>\n",
       "    <tr>\n",
       "      <th>21101</th>\n",
       "      <td>52755</td>\n",
       "      <td>Physical</td>\n",
       "      <td>Horizon</td>\n",
       "      <td>2005</td>\n",
       "      <td>4</td>\n",
       "      <td>2</td>\n",
       "      <td>At his best [sound recording] / Bill Monroe.</td>\n",
       "      <td>Monroe, Bill, 1911-1996</td>\n",
       "      <td>Country music, Bluegrass music</td>\n",
       "      <td>Hollywood,</td>\n",
       "      <td>p1989.</td>\n",
       "      <td>NaN</td>\n",
       "    </tr>\n",
       "  </tbody>\n",
       "</table>\n",
       "</div>"
      ],
      "text/plain": [
       "          ID UsageClass CheckoutType  CheckoutYear  CheckoutMonth  Checkouts  \\\n",
       "21097  52751   Physical      Horizon          2005              4          1   \n",
       "21098  52752   Physical      Horizon          2005              4         10   \n",
       "21099  52753   Physical      Horizon          2005              4          1   \n",
       "21100  52754   Physical      Horizon          2005              4          6   \n",
       "21101  52755   Physical      Horizon          2005              4          2   \n",
       "\n",
       "                                                   Title  \\\n",
       "21097                          History of womens costume   \n",
       "21098  Miss Smith's incredible storybook / Michael Ga...   \n",
       "21099               Sir Philip's folly / Marion Chesney.   \n",
       "21100                                  Miss congeniality   \n",
       "21101       At his best [sound recording] / Bill Monroe.   \n",
       "\n",
       "                       Creator  \\\n",
       "21097                      NaN   \n",
       "21098  Garland, Michael, 1952-   \n",
       "21099          Chesney, Marion   \n",
       "21100                      NaN   \n",
       "21101  Monroe, Bill, 1911-1996   \n",
       "\n",
       "                                                Subjects  \\\n",
       "21097                                    Costume History   \n",
       "21098  Books and reading Juvenile fiction, Teachers J...   \n",
       "21099  Man woman relationships England Fiction, Famil...   \n",
       "21100  Video recordings for the hearing impaired, Fea...   \n",
       "21101                     Country music, Bluegrass music   \n",
       "\n",
       "                      Publisher PublicationYear MaterialType  \n",
       "21097                       NaN             NaN          NaN  \n",
       "21098  Dutton Children's Books,           2003.          NaN  \n",
       "21099       St. Martin's Press,           1993.          NaN  \n",
       "21100                       NaN             NaN          NaN  \n",
       "21101                Hollywood,          p1989.          NaN  "
      ]
     },
     "execution_count": 5,
     "metadata": {},
     "output_type": "execute_result"
    }
   ],
   "source": [
    "final_df.tail()"
   ]
  },
  {
   "cell_type": "code",
   "execution_count": 6,
   "id": "32115fbb",
   "metadata": {},
   "outputs": [
    {
     "name": "stdout",
     "output_type": "stream",
     "text": [
      "<class 'pandas.core.frame.DataFrame'>\n",
      "RangeIndex: 31653 entries, 0 to 31652\n",
      "Data columns (total 12 columns):\n",
      " #   Column           Non-Null Count  Dtype \n",
      "---  ------           --------------  ----- \n",
      " 0   ID               31653 non-null  int64 \n",
      " 1   UsageClass       31653 non-null  object\n",
      " 2   CheckoutType     31653 non-null  object\n",
      " 3   CheckoutYear     31653 non-null  int64 \n",
      " 4   CheckoutMonth    31653 non-null  int64 \n",
      " 5   Checkouts        31653 non-null  int64 \n",
      " 6   Title            31653 non-null  object\n",
      " 7   Creator          8516 non-null   object\n",
      " 8   Subjects         29890 non-null  object\n",
      " 9   Publisher        9737 non-null   object\n",
      " 10  PublicationYear  9722 non-null   object\n",
      " 11  MaterialType     31653 non-null  object\n",
      "dtypes: int64(4), object(8)\n",
      "memory usage: 2.9+ MB\n"
     ]
    }
   ],
   "source": [
    "train_df.info()"
   ]
  },
  {
   "cell_type": "code",
   "execution_count": 7,
   "id": "64b9736a",
   "metadata": {},
   "outputs": [
    {
     "data": {
      "text/plain": [
       "ID                     0\n",
       "UsageClass             0\n",
       "CheckoutType           0\n",
       "CheckoutYear           0\n",
       "CheckoutMonth          0\n",
       "Checkouts              0\n",
       "Title                  0\n",
       "Creator            23137\n",
       "Subjects            1763\n",
       "Publisher          21916\n",
       "PublicationYear    21931\n",
       "MaterialType           0\n",
       "dtype: int64"
      ]
     },
     "execution_count": 7,
     "metadata": {},
     "output_type": "execute_result"
    }
   ],
   "source": [
    "train_df.isna().sum()"
   ]
  },
  {
   "cell_type": "code",
   "execution_count": 8,
   "id": "86a609b3",
   "metadata": {},
   "outputs": [],
   "source": [
    "train_df.drop(['Creator','Publisher','PublicationYear'],axis=1, inplace=True)"
   ]
  },
  {
   "cell_type": "code",
   "execution_count": 9,
   "id": "9a73e01a",
   "metadata": {},
   "outputs": [
    {
     "data": {
      "text/plain": [
       "array(['Tsunamis, Tsunamis Juvenile literature', nan,\n",
       "       'Cinco de Mayo Mexican holiday History Juvenile literature, Mexican Americans Social life and customs Juvenile literature, Puebla Battle of Puebla de Zaragoza Mexico 1862 Juvenile literature, Cinco de Mayo Mexican holiday Juvenile literature, Holidays Juvenile literature, Mexico Social life and customs Juvenile literature',\n",
       "       ...,\n",
       "       'Medicine Ayurvedic, Hair preparations, Hair Care and hygiene',\n",
       "       'California Guidebooks, Camp sites facilities etc California Directories, Camping California Guidebooks',\n",
       "       'Fairy tales Comic books strips etc, Graphic novels, Fantasy comic books strips etc'],\n",
       "      dtype=object)"
      ]
     },
     "execution_count": 9,
     "metadata": {},
     "output_type": "execute_result"
    }
   ],
   "source": [
    "train_df['Subjects'].unique()"
   ]
  },
  {
   "cell_type": "code",
   "execution_count": 10,
   "id": "0e024d84",
   "metadata": {},
   "outputs": [],
   "source": [
    "train_df.drop('Subjects',axis=1, inplace=True)"
   ]
  },
  {
   "cell_type": "code",
   "execution_count": 11,
   "id": "83283d64",
   "metadata": {},
   "outputs": [
    {
     "data": {
      "text/plain": [
       "ID               0\n",
       "UsageClass       0\n",
       "CheckoutType     0\n",
       "CheckoutYear     0\n",
       "CheckoutMonth    0\n",
       "Checkouts        0\n",
       "Title            0\n",
       "MaterialType     0\n",
       "dtype: int64"
      ]
     },
     "execution_count": 11,
     "metadata": {},
     "output_type": "execute_result"
    }
   ],
   "source": [
    "train_df.isna().sum()"
   ]
  },
  {
   "cell_type": "markdown",
   "id": "a45bf1e6",
   "metadata": {},
   "source": [
    "# outlier"
   ]
  },
  {
   "cell_type": "code",
   "execution_count": 12,
   "id": "f01386c3",
   "metadata": {},
   "outputs": [],
   "source": [
    "data1=train_df.select_dtypes(include=['int','float'])"
   ]
  },
  {
   "cell_type": "code",
   "execution_count": 13,
   "id": "3d17a78c",
   "metadata": {},
   "outputs": [
    {
     "data": {
      "image/png": "[encoded data removed]",
      "text/plain": [
       "<Figure size 1080x1440 with 4 Axes>"
      ]
     },
     "metadata": {
      "needs_background": "light"
     },
     "output_type": "display_data"
    }
   ],
   "source": [
    "#check for outliers\n",
    "plt.figure(figsize=(15,20))\n",
    "for i,feature in enumerate(data1.columns):\n",
    "    plt.subplot(2,2,i+1)\n",
    "    plt.boxplot(data1[feature])\n",
    "    plt.title(feature)\n",
    "    plt.tight_layout()\n",
    "plt.show()"
   ]
  },
  {
   "cell_type": "code",
   "execution_count": 14,
   "id": "8a6d8fdb",
   "metadata": {},
   "outputs": [
    {
     "name": "stdout",
     "output_type": "stream",
     "text": [
      "Lower limit is : -0.5\n",
      "Upper limit is : 3.5\n"
     ]
    }
   ],
   "source": [
    "Q1 = np.percentile(train_df['Checkouts'], 25, interpolation='midpoint')\n",
    "Q2 = np.percentile(train_df['Checkouts'], 50, interpolation='midpoint')\n",
    "Q3 = np.percentile(train_df['Checkouts'], 75, interpolation='midpoint')\n",
    "\n",
    "#find the interquartile range\n",
    "IQR = Q3-Q1\n",
    "\n",
    "#find upper limit and lower limit\n",
    "low_limit = Q1-1.5*IQR\n",
    "up_limit = Q3+1.5*IQR\n",
    "\n",
    "print('Lower limit is :',low_limit)\n",
    "print('Upper limit is :',up_limit)"
   ]
  },
  {
   "cell_type": "code",
   "execution_count": 15,
   "id": "718fd274",
   "metadata": {},
   "outputs": [],
   "source": [
    "#capping/flooring method\n",
    "train_df['Checkouts'] = np.where(train_df['Checkouts']<low_limit,low_limit,np.where(train_df['Checkouts']>up_limit,up_limit,train_df['Checkouts']))"
   ]
  },
  {
   "cell_type": "code",
   "execution_count": 16,
   "id": "90812a84",
   "metadata": {},
   "outputs": [
    {
     "data": {
      "image/png": "[encoded data removed]",
      "text/plain": [
       "<Figure size 432x288 with 1 Axes>"
      ]
     },
     "metadata": {
      "needs_background": "light"
     },
     "output_type": "display_data"
    }
   ],
   "source": [
    "plt.boxplot(train_df['Checkouts'])\n",
    "plt.title('Boxplot of _____')\n",
    "plt.show()"
   ]
  },
  {
   "cell_type": "markdown",
   "id": "4ef09769",
   "metadata": {},
   "source": [
    "# encoding"
   ]
  },
  {
   "cell_type": "code",
   "execution_count": 17,
   "id": "a9774784",
   "metadata": {},
   "outputs": [
    {
     "data": {
      "text/plain": [
       "Index(['ID', 'UsageClass', 'CheckoutType', 'CheckoutYear', 'CheckoutMonth',\n",
       "       'Checkouts', 'Title', 'MaterialType'],\n",
       "      dtype='object')"
      ]
     },
     "execution_count": 17,
     "metadata": {},
     "output_type": "execute_result"
    }
   ],
   "source": [
    "train_df.columns"
   ]
  },
  {
   "cell_type": "code",
   "execution_count": 18,
   "id": "34feb206",
   "metadata": {},
   "outputs": [
    {
     "data": {
      "text/plain": [
       "array(['Physical'], dtype=object)"
      ]
     },
     "execution_count": 18,
     "metadata": {},
     "output_type": "execute_result"
    }
   ],
   "source": [
    "train_df['UsageClass'].unique()"
   ]
  },
  {
   "cell_type": "code",
   "execution_count": 19,
   "id": "a1da5d30",
   "metadata": {},
   "outputs": [
    {
     "data": {
      "text/plain": [
       "array(['Horizon'], dtype=object)"
      ]
     },
     "execution_count": 19,
     "metadata": {},
     "output_type": "execute_result"
    }
   ],
   "source": [
    "train_df['CheckoutType'].unique()"
   ]
  },
  {
   "cell_type": "code",
   "execution_count": 20,
   "id": "4c027faa",
   "metadata": {},
   "outputs": [
    {
     "data": {
      "text/plain": [
       "array([2005], dtype=int64)"
      ]
     },
     "execution_count": 20,
     "metadata": {},
     "output_type": "execute_result"
    }
   ],
   "source": [
    "train_df['CheckoutYear'].unique()"
   ]
  },
  {
   "cell_type": "code",
   "execution_count": 21,
   "id": "dd9af0c8",
   "metadata": {},
   "outputs": [
    {
     "data": {
      "text/plain": [
       "array([4], dtype=int64)"
      ]
     },
     "execution_count": 21,
     "metadata": {},
     "output_type": "execute_result"
    }
   ],
   "source": [
    "train_df['CheckoutMonth'].unique()"
   ]
  },
  {
   "cell_type": "code",
   "execution_count": 22,
   "id": "c7b3dde8",
   "metadata": {},
   "outputs": [
    {
     "data": {
      "text/plain": [
       "array([4], dtype=int64)"
      ]
     },
     "execution_count": 22,
     "metadata": {},
     "output_type": "execute_result"
    }
   ],
   "source": [
    "train_df['CheckoutMonth'].unique()"
   ]
  },
  {
   "cell_type": "code",
   "execution_count": 23,
   "id": "c73f8d13",
   "metadata": {},
   "outputs": [],
   "source": [
    "train_df.drop('Title',axis=1, inplace=True)"
   ]
  },
  {
   "cell_type": "code",
   "execution_count": 24,
   "id": "086599e8",
   "metadata": {},
   "outputs": [],
   "source": [
    "train_df.drop('ID',axis=1, inplace=True)"
   ]
  },
  {
   "cell_type": "code",
   "execution_count": 25,
   "id": "3bb93957",
   "metadata": {},
   "outputs": [],
   "source": [
    "#label encoding\n",
    "from sklearn.preprocessing import LabelEncoder\n",
    "label_en=LabelEncoder()\n",
    "for i in train_df[['UsageClass', 'CheckoutType', 'CheckoutYear', 'CheckoutMonth']]:\n",
    "    train_df[i]=label_en.fit_transform(train_df[i])"
   ]
  },
  {
   "cell_type": "code",
   "execution_count": 26,
   "id": "087b5e0a",
   "metadata": {},
   "outputs": [
    {
     "data": {
      "text/html": [
       "<div>\n",
       "<style scoped>\n",
       "    .dataframe tbody tr th:only-of-type {\n",
       "        vertical-align: middle;\n",
       "    }\n",
       "\n",
       "    .dataframe tbody tr th {\n",
       "        vertical-align: top;\n",
       "    }\n",
       "\n",
       "    .dataframe thead th {\n",
       "        text-align: right;\n",
       "    }\n",
       "</style>\n",
       "<table border=\"1\" class=\"dataframe\">\n",
       "  <thead>\n",
       "    <tr style=\"text-align: right;\">\n",
       "      <th></th>\n",
       "      <th>UsageClass</th>\n",
       "      <th>CheckoutType</th>\n",
       "      <th>CheckoutYear</th>\n",
       "      <th>CheckoutMonth</th>\n",
       "      <th>Checkouts</th>\n",
       "      <th>MaterialType</th>\n",
       "    </tr>\n",
       "  </thead>\n",
       "  <tbody>\n",
       "    <tr>\n",
       "      <th>0</th>\n",
       "      <td>0</td>\n",
       "      <td>0</td>\n",
       "      <td>0</td>\n",
       "      <td>0</td>\n",
       "      <td>1.0</td>\n",
       "      <td>BOOK</td>\n",
       "    </tr>\n",
       "    <tr>\n",
       "      <th>1</th>\n",
       "      <td>0</td>\n",
       "      <td>0</td>\n",
       "      <td>0</td>\n",
       "      <td>0</td>\n",
       "      <td>1.0</td>\n",
       "      <td>BOOK</td>\n",
       "    </tr>\n",
       "    <tr>\n",
       "      <th>2</th>\n",
       "      <td>0</td>\n",
       "      <td>0</td>\n",
       "      <td>0</td>\n",
       "      <td>0</td>\n",
       "      <td>3.0</td>\n",
       "      <td>BOOK</td>\n",
       "    </tr>\n",
       "    <tr>\n",
       "      <th>3</th>\n",
       "      <td>0</td>\n",
       "      <td>0</td>\n",
       "      <td>0</td>\n",
       "      <td>0</td>\n",
       "      <td>1.0</td>\n",
       "      <td>BOOK</td>\n",
       "    </tr>\n",
       "    <tr>\n",
       "      <th>4</th>\n",
       "      <td>0</td>\n",
       "      <td>0</td>\n",
       "      <td>0</td>\n",
       "      <td>0</td>\n",
       "      <td>1.0</td>\n",
       "      <td>BOOK</td>\n",
       "    </tr>\n",
       "  </tbody>\n",
       "</table>\n",
       "</div>"
      ],
      "text/plain": [
       "   UsageClass  CheckoutType  CheckoutYear  CheckoutMonth  Checkouts  \\\n",
       "0           0             0             0              0        1.0   \n",
       "1           0             0             0              0        1.0   \n",
       "2           0             0             0              0        3.0   \n",
       "3           0             0             0              0        1.0   \n",
       "4           0             0             0              0        1.0   \n",
       "\n",
       "  MaterialType  \n",
       "0         BOOK  \n",
       "1         BOOK  \n",
       "2         BOOK  \n",
       "3         BOOK  \n",
       "4         BOOK  "
      ]
     },
     "execution_count": 26,
     "metadata": {},
     "output_type": "execute_result"
    }
   ],
   "source": [
    "train_df.head()"
   ]
  },
  {
   "cell_type": "code",
   "execution_count": 27,
   "id": "f7ead4d9",
   "metadata": {},
   "outputs": [],
   "source": [
    "#split the data\n",
    "y = train_df['MaterialType']\n",
    "x = train_df.drop('MaterialType', axis=1)\n",
    "\n",
    "#split it into train and test\n",
    "from sklearn.model_selection import train_test_split\n",
    "x_train, x_test, y_train, y_test = train_test_split(x,y, random_state=42, test_size=0.2)\n",
    "\n",
    "#logistic regression\n",
    "from sklearn.linear_model import LogisticRegression\n",
    "#creating an instance of the logistic regression model\n",
    "logistic_model = LogisticRegression(multi_class='multinomial')\n",
    "#training the model\n",
    "logistic_model.fit(x_train,y_train)\n",
    "#testing the model\n",
    "y_predict = logistic_model.predict(x_test)"
   ]
  },
  {
   "cell_type": "code",
   "execution_count": 28,
   "id": "8dd6bdf0",
   "metadata": {},
   "outputs": [
    {
     "name": "stdout",
     "output_type": "stream",
     "text": [
      "f1 Score is : 0.6859895751066182\n"
     ]
    }
   ],
   "source": [
    "#check the performance of the model\n",
    "from sklearn.metrics import f1_score\n",
    "print('f1 Score is :', f1_score(y_test,y_predict, average='micro'))"
   ]
  },
  {
   "cell_type": "code",
   "execution_count": 29,
   "id": "4b7f766a",
   "metadata": {},
   "outputs": [],
   "source": [
    "test1=test_df.drop(['ID', 'Subjects', 'Creator','Publisher','PublicationYear'],axis=1)"
   ]
  },
  {
   "cell_type": "code",
   "execution_count": 30,
   "id": "cb1323c2",
   "metadata": {},
   "outputs": [],
   "source": [
    "#label encoding\n",
    "from sklearn.preprocessing import LabelEncoder\n",
    "label_en=LabelEncoder()\n",
    "for i in test1[['UsageClass', 'CheckoutType', 'CheckoutYear', 'CheckoutMonth']]:\n",
    "    test1[i]=label_en.fit_transform(test1[i])"
   ]
  },
  {
   "cell_type": "code",
   "execution_count": 31,
   "id": "26a43321",
   "metadata": {},
   "outputs": [],
   "source": [
    "test1.drop('Title',axis=1, inplace=True)"
   ]
  },
  {
   "cell_type": "code",
   "execution_count": 32,
   "id": "92379db4",
   "metadata": {},
   "outputs": [],
   "source": [
    "y_predict = logistic_model.predict(test1)"
   ]
  },
  {
   "cell_type": "code",
   "execution_count": 33,
   "id": "924fcb3f",
   "metadata": {},
   "outputs": [
    {
     "data": {
      "text/plain": [
       "array(['BOOK', 'BOOK', 'BOOK', ..., 'BOOK', 'VIDEODISC', 'BOOK'],\n",
       "      dtype=object)"
      ]
     },
     "execution_count": 33,
     "metadata": {},
     "output_type": "execute_result"
    }
   ],
   "source": [
    "y_predict"
   ]
  },
  {
   "cell_type": "code",
   "execution_count": 34,
   "id": "d80d4e3c",
   "metadata": {},
   "outputs": [],
   "source": [
    "test_df['MaterialType']=y_predict"
   ]
  },
  {
   "cell_type": "code",
   "execution_count": 35,
   "id": "759f07db",
   "metadata": {},
   "outputs": [
    {
     "data": {
      "text/html": [
       "<div>\n",
       "<style scoped>\n",
       "    .dataframe tbody tr th:only-of-type {\n",
       "        vertical-align: middle;\n",
       "    }\n",
       "\n",
       "    .dataframe tbody tr th {\n",
       "        vertical-align: top;\n",
       "    }\n",
       "\n",
       "    .dataframe thead th {\n",
       "        text-align: right;\n",
       "    }\n",
       "</style>\n",
       "<table border=\"1\" class=\"dataframe\">\n",
       "  <thead>\n",
       "    <tr style=\"text-align: right;\">\n",
       "      <th></th>\n",
       "      <th>ID</th>\n",
       "      <th>UsageClass</th>\n",
       "      <th>CheckoutType</th>\n",
       "      <th>CheckoutYear</th>\n",
       "      <th>CheckoutMonth</th>\n",
       "      <th>Checkouts</th>\n",
       "      <th>Title</th>\n",
       "      <th>Creator</th>\n",
       "      <th>Subjects</th>\n",
       "      <th>Publisher</th>\n",
       "      <th>PublicationYear</th>\n",
       "      <th>MaterialType</th>\n",
       "    </tr>\n",
       "  </thead>\n",
       "  <tbody>\n",
       "    <tr>\n",
       "      <th>0</th>\n",
       "      <td>31654</td>\n",
       "      <td>Physical</td>\n",
       "      <td>Horizon</td>\n",
       "      <td>2005</td>\n",
       "      <td>4</td>\n",
       "      <td>1</td>\n",
       "      <td>Footprints at the window</td>\n",
       "      <td>NaN</td>\n",
       "      <td>England Fiction, Space and time Fiction</td>\n",
       "      <td>NaN</td>\n",
       "      <td>NaN</td>\n",
       "      <td>BOOK</td>\n",
       "    </tr>\n",
       "    <tr>\n",
       "      <th>1</th>\n",
       "      <td>31655</td>\n",
       "      <td>Physical</td>\n",
       "      <td>Horizon</td>\n",
       "      <td>2005</td>\n",
       "      <td>4</td>\n",
       "      <td>2</td>\n",
       "      <td>Seven brides for seven brothers</td>\n",
       "      <td>NaN</td>\n",
       "      <td>Video recordings for the hearing impaired, Mus...</td>\n",
       "      <td>NaN</td>\n",
       "      <td>NaN</td>\n",
       "      <td>BOOK</td>\n",
       "    </tr>\n",
       "    <tr>\n",
       "      <th>2</th>\n",
       "      <td>31656</td>\n",
       "      <td>Physical</td>\n",
       "      <td>Horizon</td>\n",
       "      <td>2005</td>\n",
       "      <td>4</td>\n",
       "      <td>2</td>\n",
       "      <td>History [sound recording] / Loudon Wainwright ...</td>\n",
       "      <td>Wainwright, Loudon, III, 1946-</td>\n",
       "      <td>Popular music 1991 2000</td>\n",
       "      <td>Charisma,</td>\n",
       "      <td>p1992.</td>\n",
       "      <td>BOOK</td>\n",
       "    </tr>\n",
       "    <tr>\n",
       "      <th>3</th>\n",
       "      <td>31657</td>\n",
       "      <td>Physical</td>\n",
       "      <td>Horizon</td>\n",
       "      <td>2005</td>\n",
       "      <td>4</td>\n",
       "      <td>2</td>\n",
       "      <td>Doing big business on the internet</td>\n",
       "      <td>NaN</td>\n",
       "      <td>Internet, Internet advertising, Information ne...</td>\n",
       "      <td>NaN</td>\n",
       "      <td>NaN</td>\n",
       "      <td>BOOK</td>\n",
       "    </tr>\n",
       "    <tr>\n",
       "      <th>4</th>\n",
       "      <td>31658</td>\n",
       "      <td>Physical</td>\n",
       "      <td>Horizon</td>\n",
       "      <td>2005</td>\n",
       "      <td>4</td>\n",
       "      <td>2</td>\n",
       "      <td>Lets learn how to dance shag</td>\n",
       "      <td>NaN</td>\n",
       "      <td>Shag Dance, Ballroom dancing</td>\n",
       "      <td>NaN</td>\n",
       "      <td>NaN</td>\n",
       "      <td>BOOK</td>\n",
       "    </tr>\n",
       "  </tbody>\n",
       "</table>\n",
       "</div>"
      ],
      "text/plain": [
       "      ID UsageClass CheckoutType  CheckoutYear  CheckoutMonth  Checkouts  \\\n",
       "0  31654   Physical      Horizon          2005              4          1   \n",
       "1  31655   Physical      Horizon          2005              4          2   \n",
       "2  31656   Physical      Horizon          2005              4          2   \n",
       "3  31657   Physical      Horizon          2005              4          2   \n",
       "4  31658   Physical      Horizon          2005              4          2   \n",
       "\n",
       "                                               Title  \\\n",
       "0                           Footprints at the window   \n",
       "1                    Seven brides for seven brothers   \n",
       "2  History [sound recording] / Loudon Wainwright ...   \n",
       "3                 Doing big business on the internet   \n",
       "4                       Lets learn how to dance shag   \n",
       "\n",
       "                          Creator  \\\n",
       "0                             NaN   \n",
       "1                             NaN   \n",
       "2  Wainwright, Loudon, III, 1946-   \n",
       "3                             NaN   \n",
       "4                             NaN   \n",
       "\n",
       "                                            Subjects  Publisher  \\\n",
       "0            England Fiction, Space and time Fiction        NaN   \n",
       "1  Video recordings for the hearing impaired, Mus...        NaN   \n",
       "2                            Popular music 1991 2000  Charisma,   \n",
       "3  Internet, Internet advertising, Information ne...        NaN   \n",
       "4                       Shag Dance, Ballroom dancing        NaN   \n",
       "\n",
       "  PublicationYear MaterialType  \n",
       "0             NaN         BOOK  \n",
       "1             NaN         BOOK  \n",
       "2          p1992.         BOOK  \n",
       "3             NaN         BOOK  \n",
       "4             NaN         BOOK  "
      ]
     },
     "execution_count": 35,
     "metadata": {},
     "output_type": "execute_result"
    }
   ],
   "source": [
    "test_df.head()"
   ]
  },
  {
   "cell_type": "code",
   "execution_count": 36,
   "id": "659bbf02",
   "metadata": {},
   "outputs": [],
   "source": [
    "sample=test_df[['ID','MaterialType']]"
   ]
  },
  {
   "cell_type": "code",
   "execution_count": 37,
   "id": "1603bc76",
   "metadata": {},
   "outputs": [
    {
     "data": {
      "text/html": [
       "<div>\n",
       "<style scoped>\n",
       "    .dataframe tbody tr th:only-of-type {\n",
       "        vertical-align: middle;\n",
       "    }\n",
       "\n",
       "    .dataframe tbody tr th {\n",
       "        vertical-align: top;\n",
       "    }\n",
       "\n",
       "    .dataframe thead th {\n",
       "        text-align: right;\n",
       "    }\n",
       "</style>\n",
       "<table border=\"1\" class=\"dataframe\">\n",
       "  <thead>\n",
       "    <tr style=\"text-align: right;\">\n",
       "      <th></th>\n",
       "      <th>ID</th>\n",
       "      <th>MaterialType</th>\n",
       "    </tr>\n",
       "  </thead>\n",
       "  <tbody>\n",
       "    <tr>\n",
       "      <th>0</th>\n",
       "      <td>31654</td>\n",
       "      <td>BOOK</td>\n",
       "    </tr>\n",
       "    <tr>\n",
       "      <th>1</th>\n",
       "      <td>31655</td>\n",
       "      <td>BOOK</td>\n",
       "    </tr>\n",
       "    <tr>\n",
       "      <th>2</th>\n",
       "      <td>31656</td>\n",
       "      <td>BOOK</td>\n",
       "    </tr>\n",
       "    <tr>\n",
       "      <th>3</th>\n",
       "      <td>31657</td>\n",
       "      <td>BOOK</td>\n",
       "    </tr>\n",
       "    <tr>\n",
       "      <th>4</th>\n",
       "      <td>31658</td>\n",
       "      <td>BOOK</td>\n",
       "    </tr>\n",
       "    <tr>\n",
       "      <th>...</th>\n",
       "      <td>...</td>\n",
       "      <td>...</td>\n",
       "    </tr>\n",
       "    <tr>\n",
       "      <th>21097</th>\n",
       "      <td>52751</td>\n",
       "      <td>BOOK</td>\n",
       "    </tr>\n",
       "    <tr>\n",
       "      <th>21098</th>\n",
       "      <td>52752</td>\n",
       "      <td>VIDEODISC</td>\n",
       "    </tr>\n",
       "    <tr>\n",
       "      <th>21099</th>\n",
       "      <td>52753</td>\n",
       "      <td>BOOK</td>\n",
       "    </tr>\n",
       "    <tr>\n",
       "      <th>21100</th>\n",
       "      <td>52754</td>\n",
       "      <td>VIDEODISC</td>\n",
       "    </tr>\n",
       "    <tr>\n",
       "      <th>21101</th>\n",
       "      <td>52755</td>\n",
       "      <td>BOOK</td>\n",
       "    </tr>\n",
       "  </tbody>\n",
       "</table>\n",
       "<p>21102 rows × 2 columns</p>\n",
       "</div>"
      ],
      "text/plain": [
       "          ID MaterialType\n",
       "0      31654         BOOK\n",
       "1      31655         BOOK\n",
       "2      31656         BOOK\n",
       "3      31657         BOOK\n",
       "4      31658         BOOK\n",
       "...      ...          ...\n",
       "21097  52751         BOOK\n",
       "21098  52752    VIDEODISC\n",
       "21099  52753         BOOK\n",
       "21100  52754    VIDEODISC\n",
       "21101  52755         BOOK\n",
       "\n",
       "[21102 rows x 2 columns]"
      ]
     },
     "execution_count": 37,
     "metadata": {},
     "output_type": "execute_result"
    }
   ],
   "source": [
    "sample"
   ]
  },
  {
   "cell_type": "code",
   "execution_count": 38,
   "id": "bec1cb1b",
   "metadata": {},
   "outputs": [],
   "source": [
    "sample.to_csv('sample.csv',index=False)"
   ]
  },
  {
   "cell_type": "code",
   "execution_count": null,
   "id": "5b141a7f",
   "metadata": {},
   "outputs": [],
   "source": []
  }
 ],
 "metadata": {
  "kernelspec": {
   "display_name": "Python 3",
   "language": "python",
   "name": "python3"
  },
  "language_info": {
   "codemirror_mode": {
    "name": "ipython",
    "version": 3
   },
   "file_extension": ".py",
   "mimetype": "text/x-python",
   "name": "python",
   "nbconvert_exporter": "python",
   "pygments_lexer": "ipython3",
   "version": "3.8.8"
  }
 },
 "nbformat": 4,
 "nbformat_minor": 5
}
